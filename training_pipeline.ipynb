{
 "cells": [
  {
   "cell_type": "code",
   "execution_count": null,
   "id": "2e439c5c",
   "metadata": {},
   "outputs": [],
   "source": [
    "pip install matplotlib"
   ]
  },
  {
   "cell_type": "code",
   "execution_count": null,
   "id": "8f83c5fb",
   "metadata": {},
   "outputs": [],
   "source": [
    "pip install torch"
   ]
  },
  {
   "cell_type": "code",
   "execution_count": null,
   "id": "9d094e05",
   "metadata": {},
   "outputs": [],
   "source": [
    "pip install tqdm"
   ]
  },
  {
   "cell_type": "code",
   "execution_count": 1,
   "id": "ae7b783d",
   "metadata": {},
   "outputs": [],
   "source": [
    "import numpy as np \n",
    "import pandas as pd \n",
    "import matplotlib.pyplot as plt \n",
    "\n",
    "import torch \n",
    "import torch.nn.functional as F \n",
    "\n",
    "from tqdm.notebook import tqdm\n",
    "import utils"
   ]
  },
  {
   "cell_type": "code",
   "execution_count": null,
   "id": "cff751a1",
   "metadata": {},
   "outputs": [],
   "source": [
    "pip install torchvision"
   ]
  },
  {
   "cell_type": "code",
   "execution_count": 2,
   "id": "76054576",
   "metadata": {},
   "outputs": [],
   "source": [
    "from torchvision import datasets \n",
    "from torchvision import transforms as T"
   ]
  },
  {
   "cell_type": "code",
   "execution_count": 3,
   "id": "2dd8dfa6",
   "metadata": {},
   "outputs": [],
   "source": [
    "train_augs=T.Compose([T.RandomHorizontalFlip(p=0.5),\n",
    "                      T.RandomVerticalFlip(p=0.5),\n",
    "                     T.ToTensor(),T.Normalize(mean=0.5,std=0.5)])\n",
    "\n",
    "valid_augs=T.Compose([T.ToTensor(),T.Normalize(mean=0.5,std=0.5)])"
   ]
  },
  {
   "cell_type": "code",
   "execution_count": 4,
   "id": "0c4f6b8e",
   "metadata": {},
   "outputs": [],
   "source": [
    "trainset=datasets.MNIST('./',download=False,train=True,transform=train_augs)\n",
    "testset=datasets.MNIST('./',download=False,train=False,transform=valid_augs)"
   ]
  },
  {
   "cell_type": "code",
   "execution_count": 5,
   "id": "d1b0d1fe",
   "metadata": {},
   "outputs": [],
   "source": [
    "trainset,validset=torch.utils.data.random_split(trainset,[50000,10000])"
   ]
  },
  {
   "cell_type": "code",
   "execution_count": 6,
   "id": "ef3fb3ec",
   "metadata": {},
   "outputs": [
    {
     "name": "stdout",
     "output_type": "stream",
     "text": [
      "Size of trainset : 50000\n",
      "Size of validset : 10000\n",
      "Size of testset : 10000\n"
     ]
    }
   ],
   "source": [
    "print(f\"Size of trainset : {len(trainset)}\")\n",
    "print(f\"Size of validset : {len(validset)}\")\n",
    "print(f\"Size of testset : {len(testset)}\")"
   ]
  },
  {
   "cell_type": "code",
   "execution_count": 7,
   "id": "b8da9ef4",
   "metadata": {},
   "outputs": [
    {
     "name": "stdout",
     "output_type": "stream",
     "text": [
      "shape of image : torch.Size([1, 28, 28])\n",
      "For visualization we need (h x w x c) so using permute shape will be : torch.Size([28, 28, 1])\n"
     ]
    },
    {
     "data": {
      "image/png": "[encoded data removed]",
      "text/plain": [
       "<Figure size 432x288 with 1 Axes>"
      ]
     },
     "metadata": {
      "needs_background": "light"
     },
     "output_type": "display_data"
    }
   ],
   "source": [
    "idx = 1\n",
    "image, label = trainset[idx]\n",
    "\n",
    "print(f'shape of image : {image.shape}')\n",
    "\n",
    "print(f'For visualization we need (h x w x c) so using permute shape will be : {image.permute(1, 2, 0).shape}')\n",
    "\n",
    "plt.imshow(image.permute(1, 2, 0), cmap = 'gray')\n",
    "plt.title(label);"
   ]
  },
  {
   "cell_type": "code",
   "execution_count": 8,
   "id": "772c03a9",
   "metadata": {},
   "outputs": [],
   "source": [
    "from torch.utils.data import DataLoader"
   ]
  },
  {
   "cell_type": "code",
   "execution_count": 9,
   "id": "ddb3abba",
   "metadata": {},
   "outputs": [],
   "source": [
    "bs=64\n",
    "trainloader=DataLoader(trainset,batch_size=bs,shuffle=True)\n",
    "validloader=DataLoader(validset,batch_size=bs)\n",
    "testloader=DataLoader(testset,batch_size=bs)"
   ]
  },
  {
   "cell_type": "code",
   "execution_count": 10,
   "id": "b1551db1",
   "metadata": {},
   "outputs": [
    {
     "name": "stdout",
     "output_type": "stream",
     "text": [
      "Total no. of batches in trainloader : 782\n",
      "Total no. of batches in validloader : 157\n",
      "Total no. of batches in testloader : 157\n"
     ]
    }
   ],
   "source": [
    "print(f'Total no. of batches in trainloader : {len(trainloader)}')\n",
    "print(f'Total no. of batches in validloader : {len(validloader)}')\n",
    "print(f'Total no. of batches in testloader : {len(testloader)}')"
   ]
  },
  {
   "cell_type": "code",
   "execution_count": 11,
   "id": "bcb60a50",
   "metadata": {},
   "outputs": [
    {
     "name": "stdout",
     "output_type": "stream",
     "text": [
      "One image batch shape :torch.Size([1, 28, 28])\n",
      "One lables batch shape:torch.Size([64])\n"
     ]
    }
   ],
   "source": [
    "for images,labels in trainloader:\n",
    "    print(f\"One image batch shape :{image.shape}\")\n",
    "    print(f\"One lables batch shape:{(labels.shape)}\")\n",
    "    break"
   ]
  },
  {
   "cell_type": "code",
   "execution_count": 12,
   "id": "a199ad7c",
   "metadata": {},
   "outputs": [
    {
     "data": {
      "text/plain": [
       "DigitModel(\n",
       "  (cnn_block): Sequential(\n",
       "    (0): Conv2d(1, 8, kernel_size=(3, 3), stride=(1, 1), padding=(1, 1))\n",
       "    (1): BatchNorm2d(8, eps=1e-05, momentum=0.1, affine=True, track_running_stats=True)\n",
       "    (2): ReLU()\n",
       "    (3): Conv2d(8, 16, kernel_size=(3, 3), stride=(1, 1), padding=(1, 1))\n",
       "    (4): BatchNorm2d(16, eps=1e-05, momentum=0.1, affine=True, track_running_stats=True)\n",
       "    (5): ReLU()\n",
       "    (6): MaxPool2d(kernel_size=(2, 2), stride=(2, 2), padding=0, dilation=1, ceil_mode=False)\n",
       "    (7): Conv2d(16, 32, kernel_size=(3, 3), stride=(1, 1), padding=(1, 1))\n",
       "    (8): BatchNorm2d(32, eps=1e-05, momentum=0.1, affine=True, track_running_stats=True)\n",
       "    (9): ReLU()\n",
       "    (10): MaxPool2d(kernel_size=(2, 2), stride=(2, 2), padding=0, dilation=1, ceil_mode=False)\n",
       "  )\n",
       "  (linear_block): Sequential(\n",
       "    (0): Flatten(start_dim=1, end_dim=-1)\n",
       "    (1): Linear(in_features=1568, out_features=512, bias=True)\n",
       "    (2): ReLU()\n",
       "    (3): Dropout(p=0.5, inplace=False)\n",
       "    (4): Linear(in_features=512, out_features=256, bias=True)\n",
       "    (5): ReLU()\n",
       "    (6): Dropout(p=0.5, inplace=False)\n",
       "    (7): Linear(in_features=256, out_features=10, bias=True)\n",
       "  )\n",
       ")"
      ]
     },
     "execution_count": 12,
     "metadata": {},
     "output_type": "execute_result"
    }
   ],
   "source": [
    "from models import DigitModel\n",
    "model=DigitModel()\n",
    "model.to('cpu')"
   ]
  },
  {
   "cell_type": "code",
   "execution_count": 13,
   "id": "c52a7c42",
   "metadata": {},
   "outputs": [],
   "source": [
    "def train_fn(model,dataloader,criterion,optimizer):\n",
    "    model.train()\n",
    "    total_loss=0.0\n",
    "    total_acc=0.0\n",
    "    for images,labels in tqdm(dataloader):\n",
    "        images=images.to('cpu')\n",
    "        labels=labels.to('cpu')\n",
    "        optimizer.zero_grad()\n",
    "        logits=model(images)\n",
    "        loss=criterion(logits,labels)\n",
    "        loss.backward()\n",
    "        optimizer.step()\n",
    "        total_loss+=loss.item()\n",
    "        total_acc+=utils.multiclass_accuracy(logits,labels)\n",
    "    return total_loss/len(dataloader),total_acc/len(dataloader)  "
   ]
  },
  {
   "cell_type": "code",
   "execution_count": 14,
   "id": "2556280a",
   "metadata": {},
   "outputs": [],
   "source": [
    "def eval_fn(model,dataloader,criterion):\n",
    "    model.eval()\n",
    "    total_loss=0.0\n",
    "    total_acc=0.0\n",
    "    with torch.no_grad():\n",
    "        for images,labels in tqdm(dataloader):\n",
    "            images=images.to('cpu')\n",
    "            labels=labels.to('cpu')\n",
    "            logits=model(images)\n",
    "            loss=criterion(logits,labels)\n",
    "            total_loss+=loss.item()\n",
    "            total_acc+=utils.multiclass_accuracy(logits,labels)\n",
    "    return total_loss/len(dataloader),total_acc/len(dataloader)"
   ]
  },
  {
   "cell_type": "code",
   "execution_count": 15,
   "id": "f905d959",
   "metadata": {},
   "outputs": [],
   "source": [
    "criterion=torch.nn.CrossEntropyLoss()\n",
    "optimizer=torch.optim.Adam(model.parameters(),lr=0.003)"
   ]
  },
  {
   "cell_type": "code",
   "execution_count": 16,
   "id": "c2c1c43e",
   "metadata": {},
   "outputs": [
    {
     "data": {
      "application/vnd.jupyter.widget-view+json": {
       "model_id": "4b4c74e6d83c4848a8e267049312c870",
       "version_major": 2,
       "version_minor": 0
      },
      "text/plain": [
       "  0%|          | 0/782 [00:00<?, ?it/s]"
      ]
     },
     "metadata": {},
     "output_type": "display_data"
    },
    {
     "data": {
      "application/vnd.jupyter.widget-view+json": {
       "model_id": "b9960bfdd628485e9a218125d1954d3b",
       "version_major": 2,
       "version_minor": 0
      },
      "text/plain": [
       "  0%|          | 0/782 [00:00<?, ?it/s]"
      ]
     },
     "metadata": {},
     "output_type": "display_data"
    },
    {
     "name": "stdout",
     "output_type": "stream",
     "text": [
      "Epoch1 Train Loss :0.7056614120902918 Train Acc :0.7618685960769653\n",
      "Epoch1 Valid Loss :0.23384809578337784 Valid Acc :0.9289082288742065\n",
      "SAVED BEST MODEL\n"
     ]
    },
    {
     "data": {
      "application/vnd.jupyter.widget-view+json": {
       "model_id": "4fa697f8e82242bc888f72e37473ee20",
       "version_major": 2,
       "version_minor": 0
      },
      "text/plain": [
       "  0%|          | 0/782 [00:00<?, ?it/s]"
      ]
     },
     "metadata": {},
     "output_type": "display_data"
    },
    {
     "data": {
      "application/vnd.jupyter.widget-view+json": {
       "model_id": "3d64d5c6dfd44ad59e4f359ed23ac4ad",
       "version_major": 2,
       "version_minor": 0
      },
      "text/plain": [
       "  0%|          | 0/782 [00:00<?, ?it/s]"
      ]
     },
     "metadata": {},
     "output_type": "display_data"
    },
    {
     "name": "stdout",
     "output_type": "stream",
     "text": [
      "Epoch2 Train Loss :0.35242965108598284 Train Acc :0.8924033045768738\n",
      "Epoch2 Valid Loss :0.16612197924881716 Valid Acc :0.9500280022621155\n",
      "SAVED BEST MODEL\n"
     ]
    },
    {
     "data": {
      "application/vnd.jupyter.widget-view+json": {
       "model_id": "01293c4ae27e41f489069319565e80db",
       "version_major": 2,
       "version_minor": 0
      },
      "text/plain": [
       "  0%|          | 0/782 [00:00<?, ?it/s]"
      ]
     },
     "metadata": {},
     "output_type": "display_data"
    },
    {
     "data": {
      "application/vnd.jupyter.widget-view+json": {
       "model_id": "de9696ef8e7e4e31ba1e5c0158a598a0",
       "version_major": 2,
       "version_minor": 0
      },
      "text/plain": [
       "  0%|          | 0/782 [00:00<?, ?it/s]"
      ]
     },
     "metadata": {},
     "output_type": "display_data"
    },
    {
     "name": "stdout",
     "output_type": "stream",
     "text": [
      "Epoch3 Train Loss :0.27953315730137596 Train Acc :0.9162603616714478\n",
      "Epoch3 Valid Loss :0.1460711429672092 Valid Acc :0.9560821652412415\n",
      "SAVED BEST MODEL\n"
     ]
    },
    {
     "data": {
      "application/vnd.jupyter.widget-view+json": {
       "model_id": "e78d5e9be2ec4a0ca4772b1d87b15600",
       "version_major": 2,
       "version_minor": 0
      },
      "text/plain": [
       "  0%|          | 0/782 [00:00<?, ?it/s]"
      ]
     },
     "metadata": {},
     "output_type": "display_data"
    },
    {
     "data": {
      "application/vnd.jupyter.widget-view+json": {
       "model_id": "213afe2b2fc74e5e961dd84364f16f5d",
       "version_major": 2,
       "version_minor": 0
      },
      "text/plain": [
       "  0%|          | 0/782 [00:00<?, ?it/s]"
      ]
     },
     "metadata": {},
     "output_type": "display_data"
    },
    {
     "name": "stdout",
     "output_type": "stream",
     "text": [
      "Epoch4 Train Loss :0.24999082854489232 Train Acc :0.9246323704719543\n",
      "Epoch4 Valid Loss :0.13500096408359688 Valid Acc :0.9589194655418396\n",
      "SAVED BEST MODEL\n"
     ]
    },
    {
     "data": {
      "application/vnd.jupyter.widget-view+json": {
       "model_id": "f3a4747406ba44c6a9665552bd6df3a0",
       "version_major": 2,
       "version_minor": 0
      },
      "text/plain": [
       "  0%|          | 0/782 [00:00<?, ?it/s]"
      ]
     },
     "metadata": {},
     "output_type": "display_data"
    },
    {
     "data": {
      "application/vnd.jupyter.widget-view+json": {
       "model_id": "19d814f339bd4c18a1133853b7fa4063",
       "version_major": 2,
       "version_minor": 0
      },
      "text/plain": [
       "  0%|          | 0/782 [00:00<?, ?it/s]"
      ]
     },
     "metadata": {},
     "output_type": "display_data"
    },
    {
     "name": "stdout",
     "output_type": "stream",
     "text": [
      "Epoch5 Train Loss :0.2223054773562476 Train Acc :0.9336037635803223\n",
      "Epoch5 Valid Loss :0.11115928695482366 Valid Acc :0.9664722084999084\n",
      "SAVED BEST MODEL\n"
     ]
    },
    {
     "data": {
      "application/vnd.jupyter.widget-view+json": {
       "model_id": "14d40900f8e34619b5a45b2163bd0307",
       "version_major": 2,
       "version_minor": 0
      },
      "text/plain": [
       "  0%|          | 0/782 [00:00<?, ?it/s]"
      ]
     },
     "metadata": {},
     "output_type": "display_data"
    },
    {
     "data": {
      "application/vnd.jupyter.widget-view+json": {
       "model_id": "b6c1c849eb0e475786a8a6b7a9f70dc3",
       "version_major": 2,
       "version_minor": 0
      },
      "text/plain": [
       "  0%|          | 0/782 [00:00<?, ?it/s]"
      ]
     },
     "metadata": {},
     "output_type": "display_data"
    },
    {
     "name": "stdout",
     "output_type": "stream",
     "text": [
      "Epoch6 Train Loss :0.21434700396150122 Train Acc :0.9362212419509888\n",
      "Epoch6 Valid Loss :0.10899377788614739 Valid Acc :0.9658727645874023\n",
      "SAVED BEST MODEL\n"
     ]
    },
    {
     "data": {
      "application/vnd.jupyter.widget-view+json": {
       "model_id": "bc34cf002b764c4a9ab5aba1d26950ab",
       "version_major": 2,
       "version_minor": 0
      },
      "text/plain": [
       "  0%|          | 0/782 [00:00<?, ?it/s]"
      ]
     },
     "metadata": {},
     "output_type": "display_data"
    },
    {
     "data": {
      "application/vnd.jupyter.widget-view+json": {
       "model_id": "3809c3e39bdc4f109478505ca6b801bf",
       "version_major": 2,
       "version_minor": 0
      },
      "text/plain": [
       "  0%|          | 0/782 [00:00<?, ?it/s]"
      ]
     },
     "metadata": {},
     "output_type": "display_data"
    },
    {
     "name": "stdout",
     "output_type": "stream",
     "text": [
      "Epoch7 Train Loss :0.20181015090507162 Train Acc :0.9387787580490112\n",
      "Epoch7 Valid Loss :0.10632352990722355 Valid Acc :0.9679108262062073\n",
      "SAVED BEST MODEL\n"
     ]
    }
   ],
   "source": [
    "best_valid_loss=np.Inf\n",
    "for i in range(7):\n",
    "    train_loss,train_acc=train_fn(model,trainloader,criterion,optimizer)\n",
    "    valid_loss,valid_acc=eval_fn(model,trainloader,criterion)\n",
    "    \n",
    "    print(f\"Epoch{i+1} Train Loss :{train_loss} Train Acc :{train_acc}\")\n",
    "    print(f\"Epoch{i+1} Valid Loss :{valid_loss} Valid Acc :{valid_acc}\")\n",
    "    \n",
    "    if valid_loss<best_valid_loss:\n",
    "        torch.save(model.state_dict(),'best_weights.pt')\n",
    "        print('SAVED BEST MODEL')\n",
    "        best_valid_loss=valid_loss"
   ]
  },
  {
   "cell_type": "code",
   "execution_count": 19,
   "id": "d16e4e51",
   "metadata": {},
   "outputs": [
    {
     "data": {
      "image/png": "[encoded data removed]",
      "text/plain": [
       "<Figure size 432x648 with 2 Axes>"
      ]
     },
     "metadata": {
      "needs_background": "light"
     },
     "output_type": "display_data"
    }
   ],
   "source": [
    "image,label=testset[89]\n",
    "weights=torch.load('best_weights.pt')\n",
    "model.load_state_dict(weights)\n",
    "\n",
    "model.eval()\n",
    "with torch.no_grad():\n",
    "    logits=model(image.unsqueeze(0))\n",
    "    ps=torch.nn.Softmax(dim=1)(logits)[0]\n",
    "    utils.view_classify(image,ps)"
   ]
  },
  {
   "cell_type": "code",
   "execution_count": null,
   "id": "4570d067",
   "metadata": {},
   "outputs": [],
   "source": []
  }
 ],
 "metadata": {
  "kernelspec": {
   "display_name": "Python 3 (ipykernel)",
   "language": "python",
   "name": "python3"
  },
  "language_info": {
   "codemirror_mode": {
    "name": "ipython",
    "version": 3
   },
   "file_extension": ".py",
   "mimetype": "text/x-python",
   "name": "python",
   "nbconvert_exporter": "python",
   "pygments_lexer": "ipython3",
   "version": "3.9.2"
  }
 },
 "nbformat": 4,
 "nbformat_minor": 5
}
